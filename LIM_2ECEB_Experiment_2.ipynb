{
 "cells": [
  {
   "cell_type": "markdown",
   "id": "195fff95-a043-473e-af0a-14ac73c10631",
   "metadata": {},
   "source": [
    "# Experiment 2 - NumPy Python\n",
    "### Name: Emmanuel Gabriel M. Lim\n",
    "### Section: 2ECE-B\n",
    "### Date: August 30, 2025\n",
    "### Subject Code: ECE2112"
   ]
  },
  {
   "cell_type": "markdown",
   "id": "e3989026-b8fd-43f5-afe9-01621b77ba61",
   "metadata": {},
   "source": [
    "## Normalization Problem\n",
    "\n",
    "Normalize a random 5×5 ndarray using the formula:  \n",
    "\n",
    "$$ Z = \\frac{X - \\bar{X}}{\\sigma} $$\n",
    "\n",
    "where:\n",
    "- $X$ = data  \n",
    "- $\\bar{X}$ = mean of $X$  \n",
    "- $\\sigma$ = standard deviation of $X$\n",
    "\n",
    "Save the normalized ndarray as `X_normalized.npy`.  "
   ]
  },
  {
   "cell_type": "code",
   "execution_count": null,
   "id": "7b8b6564-d367-493e-a606-93a16d9124d3",
   "metadata": {},
   "outputs": [
    {
     "name": "stdout",
     "output_type": "stream",
     "text": [
      "Original ndarray:\n",
      " [[0.11698285 0.02983347 0.12815127 0.94548841 0.58362847]\n",
      " [0.50460234 0.27923148 0.14918422 0.51413625 0.24169649]\n",
      " [0.66408114 0.22191292 0.41527691 0.07167181 0.87905917]\n",
      " [0.68387476 0.92544118 0.23568685 0.88793083 0.08205872]\n",
      " [0.08959668 0.88338079 0.14242905 0.29447202 0.69561394]]\n",
      "\n",
      "Mean: 0.42661688046667434 \tStd Dev: 0.30905047863199286\n",
      "\n",
      "Normalized ndarray:\n",
      " [[-1.00188822 -1.28387897 -0.96575035  1.67892161  0.50804512]\n",
      " [ 0.25233892 -0.47689752 -0.89769367  0.28318794 -0.59835013]\n",
      " [ 0.76836722 -0.66236416 -0.03669294 -1.14850193  1.46397539]\n",
      " [ 0.83241378  1.61405443 -0.61779561  1.49268157 -1.11489283]\n",
      " [-1.09050211  1.47795892 -0.9195515  -0.42758343  0.87039846]]\n"
     ]
    }
   ],
   "source": [
    "import numpy as np                                     #Import NumPy\n",
    "\n",
    "X = np.random.rand(5, 5)                               #Creates a randomized 5x5 ndarray\n",
    "X_normalized = (X - X.mean()) / X.std()                #Apply normalization on each element\n",
    "np.save(\"X_normalized.npy\", X_normalized)              #Saves normalized ndarray in X_normalized.npy\n",
    "\n",
    "print(\"Original ndarray:\\n\", X)                         #Print all Values\n",
    "print(\"\\nMean:\", X.mean(), \"\\tStd Dev:\", X.std())\n",
    "print(\"\\nNormalized ndarray:\\n\", X_normalized)"
   ]
  },
  {
   "cell_type": "markdown",
   "id": "2fa56683-5cb7-4277-8d6f-773d02f7ac6b",
   "metadata": {},
   "source": [
    "## Divisible by 3 Problem  \n",
    "\n",
    "Create a 10×10 ndarray of the squares of the first 100 positive integers. From this ndarray, extract all elements divisible by 3, then save them into a file named `div_by_3.npy`.  \n"
   ]
  },
  {
   "cell_type": "code",
   "execution_count": null,
   "id": "7376ffaa-94ce-4316-b437-61545a87a8d9",
   "metadata": {},
   "outputs": [
    {
     "name": "stdout",
     "output_type": "stream",
     "text": [
      "Squared Values of 1-100:\n",
      " [[    1     4     9    16    25    36    49    64    81   100]\n",
      " [  121   144   169   196   225   256   289   324   361   400]\n",
      " [  441   484   529   576   625   676   729   784   841   900]\n",
      " [  961  1024  1089  1156  1225  1296  1369  1444  1521  1600]\n",
      " [ 1681  1764  1849  1936  2025  2116  2209  2304  2401  2500]\n",
      " [ 2601  2704  2809  2916  3025  3136  3249  3364  3481  3600]\n",
      " [ 3721  3844  3969  4096  4225  4356  4489  4624  4761  4900]\n",
      " [ 5041  5184  5329  5476  5625  5776  5929  6084  6241  6400]\n",
      " [ 6561  6724  6889  7056  7225  7396  7569  7744  7921  8100]\n",
      " [ 8281  8464  8649  8836  9025  9216  9409  9604  9801 10000]]\n",
      "\n",
      "ELements divisble by 3:\n",
      " [   9   36   81  144  225  324  441  576  729  900 1089 1296 1521 1764\n",
      " 2025 2304 2601 2916 3249 3600 3969 4356 4761 5184 5625 6084 6561 7056\n",
      " 7569 8100 8649 9216 9801]\n"
     ]
    }
   ],
   "source": [
    "import numpy as np                                         #Import NumPy\n",
    "\n",
    "A = (np.arange(1, 101) ** 2).reshape(10, 10)               #Create a 10x10 ndarray with 1-100 positive integers\n",
    "div_by_3 = A[A % 3 == 0]                                   #Check elements divisble by 3 then save inside a new ndarray\n",
    "np.save(\"div_by_3.npy\", div_by_3)                          #Save the new ndarray as div_by_3.npy\n",
    "\n",
    "print(\"Squared Values of 1-100:\\n\", A)                     #Print all values\n",
    "print(\"\\nELements divisble by 3:\\n\", div_by_3)"
   ]
  }
 ],
 "metadata": {
  "kernelspec": {
   "display_name": "Python [conda env:base] *",
   "language": "python",
   "name": "conda-base-py"
  },
  "language_info": {
   "codemirror_mode": {
    "name": "ipython",
    "version": 3
   },
   "file_extension": ".py",
   "mimetype": "text/x-python",
   "name": "python",
   "nbconvert_exporter": "python",
   "pygments_lexer": "ipython3",
   "version": "3.13.5"
  }
 },
 "nbformat": 4,
 "nbformat_minor": 5
}
